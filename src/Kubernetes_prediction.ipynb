{
  "nbformat": 4,
  "nbformat_minor": 0,
  "metadata": {
    "colab": {
      "provenance": []
    },
    "kernelspec": {
      "name": "python3",
      "display_name": "Python 3"
    },
    "language_info": {
      "name": "python"
    }
  },
  "cells": [
    {
      "cell_type": "markdown",
      "source": [
        "**Load Libraries**"
      ],
      "metadata": {
        "id": "HGs9DTO6K1t9"
      }
    },
    {
      "cell_type": "code",
      "execution_count": null,
      "metadata": {
        "id": "KhK-MBvwZBll"
      },
      "outputs": [],
      "source": [
        "import pandas as pd\n",
        "import numpy as np\n",
        "from sklearn.model_selection import train_test_split\n",
        "from sklearn.ensemble import RandomForestClassifier\n",
        "from sklearn.preprocessing import StandardScaler, LabelEncoder\n",
        "from sklearn.metrics import accuracy_score, classification_report, confusion_matrix"
      ]
    },
    {
      "cell_type": "markdown",
      "source": [
        "**Load Dataset**"
      ],
      "metadata": {
        "id": "8qS3Qs5fa-sy"
      }
    },
    {
      "cell_type": "code",
      "source": [
        "from google.colab import drive\n",
        "drive.mount('/content/drive',force_remount=True)\n",
        "file_path = '/content/drive/MyDrive/Kubernetes_Guidewire Hackathon/kubernetes_metrics_dataset.csv'\n",
        "# Load the dataset\n",
        "df = pd.read_csv(\"/content/drive/MyDrive/Kubernetes_Guidewire Hackathon/kubernetes_metrics_dataset.csv\")\n",
        "\n",
        "# Convert Timestamp to datetime (if needed)\n",
        "df[\"Timestamp\"] = pd.to_datetime(df[\"Timestamp\"])\n",
        "\n",
        "# Drop Timestamp column (not needed for training)\n",
        "df.drop(columns=[\"Timestamp\"], inplace=True)"
      ],
      "metadata": {
        "id": "ATDIfA1za7ks",
        "colab": {
          "base_uri": "https://localhost:8080/"
        },
        "outputId": "58dab57e-2e13-4d6e-8e6e-f4f2f19e4990"
      },
      "execution_count": 11,
      "outputs": [
        {
          "output_type": "stream",
          "name": "stdout",
          "text": [
            "Mounted at /content/drive\n"
          ]
        }
      ]
    },
    {
      "cell_type": "markdown",
      "source": [
        "**Data Preprocessing**"
      ],
      "metadata": {
        "id": "olFvg9uoLJRx"
      }
    },
    {
      "cell_type": "code",
      "source": [
        "# Encode categorical variable (Pod_Status)\n",
        "label_encoder = LabelEncoder()\n",
        "df[\"Pod_Status\"] = label_encoder.fit_transform(df[\"Pod_Status\"])  # e.g., Running → 1, Failed → 0\n",
        "\n",
        "# Define features (X) and target variable (y)\n",
        "X = df.drop(columns=[\"Issue_Label\"])  # Features (CPU, Memory, Disk, etc.)\n",
        "y = df[\"Issue_Label\"]  # Target (0 = No Issue, 1 = Issue)\n",
        "\n",
        "X_train, X_test, y_train, y_test = train_test_split(X, y, test_size=0.2, random_state=42, stratify=y)\n",
        "scaler = StandardScaler()\n",
        "X_train = scaler.fit_transform(X_train)\n",
        "X_test = scaler.transform(X_test)"
      ],
      "metadata": {
        "id": "p2TlTLDTdClC"
      },
      "execution_count": 14,
      "outputs": []
    },
    {
      "cell_type": "markdown",
      "source": [
        "**Train & Evaluate Random Forest Model**"
      ],
      "metadata": {
        "id": "PyEMKMHHLVfp"
      }
    },
    {
      "cell_type": "code",
      "source": [
        "# Initialize the model\n",
        "rf_model = RandomForestClassifier(n_estimators=100, random_state=42, max_depth=10)\n",
        "\n",
        "# Train the model\n",
        "rf_model.fit(X_train, y_train)\n",
        "\n",
        "# Predict on test data\n",
        "y_pred = rf_model.predict(X_test)\n",
        "\n",
        "# Model Accuracy\n",
        "accuracy = accuracy_score(y_test, y_pred)\n",
        "print(f\"Model Accuracy: {accuracy:.2f}\")\n",
        "\n",
        "# Classification Report\n",
        "print(\"Classification Report:\\n\", classification_report(y_test, y_pred))\n",
        "\n",
        "# Confusion Matrix\n",
        "print(\"Confusion Matrix:\\n\", confusion_matrix(y_test, y_pred))\n"
      ],
      "metadata": {
        "colab": {
          "base_uri": "https://localhost:8080/"
        },
        "id": "aEsx-XOc93z_",
        "outputId": "ad366b28-4340-4365-bacd-7096adb260e9"
      },
      "execution_count": 15,
      "outputs": [
        {
          "output_type": "stream",
          "name": "stdout",
          "text": [
            "Model Accuracy: 1.00\n",
            "Classification Report:\n",
            "               precision    recall  f1-score   support\n",
            "\n",
            "           0       1.00      1.00      1.00       863\n",
            "           1       1.00      1.00      1.00      1137\n",
            "\n",
            "    accuracy                           1.00      2000\n",
            "   macro avg       1.00      1.00      1.00      2000\n",
            "weighted avg       1.00      1.00      1.00      2000\n",
            "\n",
            "Confusion Matrix:\n",
            " [[ 862    1]\n",
            " [   0 1137]]\n"
          ]
        }
      ]
    },
    {
      "cell_type": "markdown",
      "source": [
        "**Feature Importance Visualization**"
      ],
      "metadata": {
        "id": "tQQXiYQ-LcNT"
      }
    },
    {
      "cell_type": "code",
      "source": [
        "import matplotlib.pyplot as plt\n",
        "\n",
        "# Get feature importances\n",
        "feature_importances = rf_model.feature_importances_\n",
        "\n",
        "# Convert to DataFrame for better visualization\n",
        "importance_df = pd.DataFrame({\"Feature\": X.columns, \"Importance\": feature_importances})\n",
        "importance_df = importance_df.sort_values(by=\"Importance\", ascending=False)\n",
        "\n",
        "# Plot feature importance\n",
        "plt.figure(figsize=(10, 5))\n",
        "plt.barh(importance_df[\"Feature\"], importance_df[\"Importance\"])\n",
        "plt.xlabel(\"Feature Importance Score\")\n",
        "plt.ylabel(\"Features\")\n",
        "plt.title(\"Feature Importance in Random Forest Model\")\n",
        "plt.show()"
      ],
      "metadata": {
        "colab": {
          "base_uri": "https://localhost:8080/",
          "height": 487
        },
        "id": "KPXW2PrI98vp",
        "outputId": "4a9cd2f0-e84a-4366-c9cb-ed0829b0905f"
      },
      "execution_count": 16,
      "outputs": [
        {
          "output_type": "display_data",
          "data": {
            "text/plain": [
              "<Figure size 1000x500 with 1 Axes>"
            ],
            "image/png": "[encoded data removed]"
          },
          "metadata": {}
        }
      ]
    },
    {
      "cell_type": "markdown",
      "source": [
        "**Hyperparameter Tuning (RandomizedSearchCV)**"
      ],
      "metadata": {
        "id": "mXLVm9r3LiWy"
      }
    },
    {
      "cell_type": "code",
      "source": [
        "from sklearn.model_selection import GridSearchCV, RandomizedSearchCV\n",
        "from sklearn.ensemble import RandomForestClassifier"
      ],
      "metadata": {
        "id": "Tcbu9X1U9_O7"
      },
      "execution_count": 17,
      "outputs": []
    },
    {
      "cell_type": "code",
      "source": [
        "# Define the parameter grid\n",
        "param_dist = {\n",
        "    'n_estimators': [50, 100, 200, 300],\n",
        "    'max_depth': [5, 10, 20, None],\n",
        "    'min_samples_split': [2, 5, 10],\n",
        "    'min_samples_leaf': [1, 2, 4],\n",
        "    'max_features': ['sqrt', 'log2']\n",
        "}\n",
        "\n",
        "# Initialize RandomizedSearchCV\n",
        "random_search = RandomizedSearchCV(\n",
        "    estimator=RandomForestClassifier(random_state=42),\n",
        "    param_distributions=param_dist,\n",
        "    n_iter=20,  # Number of random combinations to try\n",
        "    cv=5,  # 5-fold cross-validation\n",
        "    verbose=2,\n",
        "    n_jobs=-1  # Use all CPU cores\n",
        ")\n",
        "\n",
        "# Fit the model\n",
        "random_search.fit(X_train, y_train)\n",
        "\n",
        "# Print the best parameters\n",
        "print(\"Best Parameters:\", random_search.best_params_)"
      ],
      "metadata": {
        "colab": {
          "base_uri": "https://localhost:8080/"
        },
        "id": "a0KGKoj--gII",
        "outputId": "af2c2449-1149-4922-a7f9-a47458683540"
      },
      "execution_count": 18,
      "outputs": [
        {
          "output_type": "stream",
          "name": "stdout",
          "text": [
            "Fitting 5 folds for each of 20 candidates, totalling 100 fits\n",
            "Best Parameters: {'n_estimators': 300, 'min_samples_split': 10, 'min_samples_leaf': 2, 'max_features': 'sqrt', 'max_depth': 10}\n"
          ]
        }
      ]
    },
    {
      "cell_type": "markdown",
      "source": [
        "**Train & Evaluate Optimized Model**"
      ],
      "metadata": {
        "id": "QceLJhnCLsB3"
      }
    },
    {
      "cell_type": "code",
      "source": [
        "# Use the best parameters from tuning\n",
        "best_params = random_search.best_params_\n",
        "\n",
        "# Train Random Forest with optimized parameters\n",
        "best_rf_model = RandomForestClassifier(**best_params, random_state=42)\n",
        "best_rf_model.fit(X_train, y_train)\n",
        "\n",
        "# Evaluate Performance\n",
        "y_pred_best = best_rf_model.predict(X_test)\n",
        "accuracy_best = accuracy_score(y_test, y_pred_best)\n",
        "print(\"Optimized Model Accuracy:\", accuracy_best)"
      ],
      "metadata": {
        "colab": {
          "base_uri": "https://localhost:8080/"
        },
        "id": "3tlNiwGaA-zJ",
        "outputId": "b29a4c78-742f-403a-9174-c0836e134b34"
      },
      "execution_count": 19,
      "outputs": [
        {
          "output_type": "stream",
          "name": "stdout",
          "text": [
            "Optimized Model Accuracy: 0.9995\n"
          ]
        }
      ]
    },
    {
      "cell_type": "markdown",
      "source": [
        "**Handling Class Imbalance**"
      ],
      "metadata": {
        "id": "5GUr45HrL0ry"
      }
    },
    {
      "cell_type": "code",
      "source": [
        "from collections import Counter\n",
        "from imblearn.over_sampling import SMOTE\n",
        "\n",
        "# Check class distribution before balancing\n",
        "print(\"Class distribution before SMOTE:\", Counter(y_train))\n",
        "\n",
        "# Apply SMOTE to balance the dataset\n",
        "smote = SMOTE(random_state=42)\n",
        "X_train_balanced, y_train_balanced = smote.fit_resample(X_train, y_train)\n",
        "\n",
        "# Check class distribution after balancing\n",
        "print(\"Class distribution after SMOTE:\", Counter(y_train_balanced))\n"
      ],
      "metadata": {
        "colab": {
          "base_uri": "https://localhost:8080/"
        },
        "id": "hdRYvWIFLv3E",
        "outputId": "62632dd2-7927-4bad-ff9b-7627faa17fb6"
      },
      "execution_count": 23,
      "outputs": [
        {
          "output_type": "stream",
          "name": "stdout",
          "text": [
            "Class distribution before SMOTE: Counter({1: 4547, 0: 3453})\n",
            "Class distribution after SMOTE: Counter({1: 4547, 0: 4547})\n"
          ]
        }
      ]
    },
    {
      "cell_type": "markdown",
      "source": [
        "**Training an Alternative Model: XGBoost**"
      ],
      "metadata": {
        "id": "FOqx2baOL7AI"
      }
    },
    {
      "cell_type": "code",
      "source": [
        "from xgboost import XGBClassifier\n",
        "\n",
        "# Initialize XGBoost model\n",
        "xgb_model = XGBClassifier(n_estimators=200, max_depth=10, learning_rate=0.05, random_state=42)\n",
        "\n",
        "# Train on balanced dataset\n",
        "xgb_model.fit(X_train_balanced, y_train_balanced)\n",
        "\n",
        "# Predict and evaluate\n",
        "y_pred_xgb = xgb_model.predict(X_test)\n",
        "\n",
        "# Print Accuracy\n",
        "print(\"XGBoost Model Accuracy:\", accuracy_score(y_test, y_pred_xgb))\n",
        "\n",
        "# Print Classification Report\n",
        "print(\"Classification Report:\\n\", classification_report(y_test, y_pred_xgb))\n",
        "\n",
        "# Print Confusion Matrix\n",
        "print(\"Confusion Matrix:\\n\", confusion_matrix(y_test, y_pred_xgb))\n"
      ],
      "metadata": {
        "colab": {
          "base_uri": "https://localhost:8080/"
        },
        "id": "vwrFq0ZYL4k1",
        "outputId": "e6a5d0f8-c3c9-4146-8895-f5c813262b51"
      },
      "execution_count": 24,
      "outputs": [
        {
          "output_type": "stream",
          "name": "stdout",
          "text": [
            "XGBoost Model Accuracy: 0.9975\n",
            "Classification Report:\n",
            "               precision    recall  f1-score   support\n",
            "\n",
            "           0       1.00      1.00      1.00       863\n",
            "           1       1.00      1.00      1.00      1137\n",
            "\n",
            "    accuracy                           1.00      2000\n",
            "   macro avg       1.00      1.00      1.00      2000\n",
            "weighted avg       1.00      1.00      1.00      2000\n",
            "\n",
            "Confusion Matrix:\n",
            " [[ 862    1]\n",
            " [   4 1133]]\n"
          ]
        }
      ]
    },
    {
      "cell_type": "markdown",
      "source": [
        "**Feature Explainability with SHAP**"
      ],
      "metadata": {
        "id": "DFTQVOBzMGHO"
      }
    },
    {
      "cell_type": "code",
      "source": [
        "import shap\n",
        "\n",
        "# Create SHAP explainer\n",
        "explainer = shap.Explainer(xgb_model, X_train_balanced)\n",
        "shap_values = explainer(X_test)\n",
        "\n",
        "# Summary Plot\n",
        "shap.summary_plot(shap_values, X_test)"
      ],
      "metadata": {
        "colab": {
          "base_uri": "https://localhost:8080/",
          "height": 397
        },
        "id": "PO7xgFYiL_AA",
        "outputId": "c17f14fe-2025-45fb-d2af-9722b0aaa1eb"
      },
      "execution_count": 25,
      "outputs": [
        {
          "output_type": "display_data",
          "data": {
            "text/plain": [
              "<Figure size 800x390 with 2 Axes>"
            ],
            "image/png": "[encoded data removed]"
          },
          "metadata": {}
        }
      ]
    },
    {
      "cell_type": "markdown",
      "source": [
        "**Model Comparison: XGBoost vs. Random Forest**"
      ],
      "metadata": {
        "id": "sS0Gm53QMXjx"
      }
    },
    {
      "cell_type": "code",
      "source": [
        "import time\n",
        "\n",
        "# Time the RF Model\n",
        "start = time.time()\n",
        "rf_pred = best_rf_model.predict(X_test)\n",
        "rf_time = time.time() - start\n",
        "\n",
        "# Time the XGBoost Model\n",
        "start = time.time()\n",
        "xgb_pred = xgb_model.predict(X_test)\n",
        "xgb_time = time.time() - start\n",
        "\n",
        "# Print Accuracy and Processing Time\n",
        "print(\"Random Forest Accuracy:\", accuracy_score(y_test, rf_pred))\n",
        "print(\"Random Forest Processing Time:\", rf_time, \"seconds\")\n",
        "\n",
        "print(\"XGBoost Accuracy:\", accuracy_score(y_test, xgb_pred))\n",
        "print(\"XGBoost Processing Time:\", xgb_time, \"seconds\")\n"
      ],
      "metadata": {
        "colab": {
          "base_uri": "https://localhost:8080/"
        },
        "id": "M2upYt7cMPmF",
        "outputId": "ee764274-3b29-4464-fa3c-e8810feb60ac"
      },
      "execution_count": 26,
      "outputs": [
        {
          "output_type": "stream",
          "name": "stdout",
          "text": [
            "Random Forest Accuracy: 0.9995\n",
            "Random Forest Processing Time: 0.050649166107177734 seconds\n",
            "XGBoost Accuracy: 0.9975\n",
            "XGBoost Processing Time: 0.006183624267578125 seconds\n"
          ]
        }
      ]
    },
    {
      "cell_type": "markdown",
      "source": [
        "**Saving the Models**"
      ],
      "metadata": {
        "id": "y8Al9frdNKd_"
      }
    },
    {
      "cell_type": "code",
      "source": [
        "import joblib\n",
        "\n",
        "# Save Random Forest model\n",
        "joblib.dump(rf_model, \"random_forest.pkl\")\n",
        "\n",
        "# Save XGBoost model\n",
        "joblib.dump(xgb_model, \"xgboost.pkl\")\n"
      ],
      "metadata": {
        "colab": {
          "base_uri": "https://localhost:8080/"
        },
        "id": "_0Mk3PQ8M9Pb",
        "outputId": "c9ab3dba-1df2-48e1-c435-c23648ac11a0"
      },
      "execution_count": 27,
      "outputs": [
        {
          "output_type": "execute_result",
          "data": {
            "text/plain": [
              "['xgboost.pkl']"
            ]
          },
          "metadata": {},
          "execution_count": 27
        }
      ]
    },
    {
      "cell_type": "markdown",
      "source": [
        "**Download Models Locally**"
      ],
      "metadata": {
        "id": "f4SujBvNNRNA"
      }
    },
    {
      "cell_type": "code",
      "source": [
        "from google.colab import files\n",
        "\n",
        "files.download(\"random_forest.pkl\")\n",
        "files.download(\"xgboost.pkl\")\n"
      ],
      "metadata": {
        "colab": {
          "base_uri": "https://localhost:8080/",
          "height": 17
        },
        "id": "F1yAovvvNNId",
        "outputId": "8e6e88ac-8586-4fd6-b400-fe7b339e1d55"
      },
      "execution_count": null,
      "outputs": [
        {
          "output_type": "display_data",
          "data": {
            "text/plain": [
              "<IPython.core.display.Javascript object>"
            ],
            "application/javascript": [
              "\n",
              "    async function download(id, filename, size) {\n",
              "      if (!google.colab.kernel.accessAllowed) {\n",
              "        return;\n",
              "      }\n",
              "      const div = document.createElement('div');\n",
              "      const label = document.createElement('label');\n",
              "      label.textContent = `Downloading \"${filename}\": `;\n",
              "      div.appendChild(label);\n",
              "      const progress = document.createElement('progress');\n",
              "      progress.max = size;\n",
              "      div.appendChild(progress);\n",
              "      document.body.appendChild(div);\n",
              "\n",
              "      const buffers = [];\n",
              "      let downloaded = 0;\n",
              "\n",
              "      const channel = await google.colab.kernel.comms.open(id);\n",
              "      // Send a message to notify the kernel that we're ready.\n",
              "      channel.send({})\n",
              "\n",
              "      for await (const message of channel.messages) {\n",
              "        // Send a message to notify the kernel that we're ready.\n",
              "        channel.send({})\n",
              "        if (message.buffers) {\n",
              "          for (const buffer of message.buffers) {\n",
              "            buffers.push(buffer);\n",
              "            downloaded += buffer.byteLength;\n",
              "            progress.value = downloaded;\n",
              "          }\n",
              "        }\n",
              "      }\n",
              "      const blob = new Blob(buffers, {type: 'application/binary'});\n",
              "      const a = document.createElement('a');\n",
              "      a.href = window.URL.createObjectURL(blob);\n",
              "      a.download = filename;\n",
              "      div.appendChild(a);\n",
              "      a.click();\n",
              "      div.remove();\n",
              "    }\n",
              "  "
            ]
          },
          "metadata": {}
        },
        {
          "output_type": "display_data",
          "data": {
            "text/plain": [
              "<IPython.core.display.Javascript object>"
            ],
            "application/javascript": [
              "download(\"download_a07cc810-e95f-4d74-aef5-ac28561b3b9e\", \"random_forest.pkl\", 400329)"
            ]
          },
          "metadata": {}
        },
        {
          "output_type": "display_data",
          "data": {
            "text/plain": [
              "<IPython.core.display.Javascript object>"
            ],
            "application/javascript": [
              "\n",
              "    async function download(id, filename, size) {\n",
              "      if (!google.colab.kernel.accessAllowed) {\n",
              "        return;\n",
              "      }\n",
              "      const div = document.createElement('div');\n",
              "      const label = document.createElement('label');\n",
              "      label.textContent = `Downloading \"${filename}\": `;\n",
              "      div.appendChild(label);\n",
              "      const progress = document.createElement('progress');\n",
              "      progress.max = size;\n",
              "      div.appendChild(progress);\n",
              "      document.body.appendChild(div);\n",
              "\n",
              "      const buffers = [];\n",
              "      let downloaded = 0;\n",
              "\n",
              "      const channel = await google.colab.kernel.comms.open(id);\n",
              "      // Send a message to notify the kernel that we're ready.\n",
              "      channel.send({})\n",
              "\n",
              "      for await (const message of channel.messages) {\n",
              "        // Send a message to notify the kernel that we're ready.\n",
              "        channel.send({})\n",
              "        if (message.buffers) {\n",
              "          for (const buffer of message.buffers) {\n",
              "            buffers.push(buffer);\n",
              "            downloaded += buffer.byteLength;\n",
              "            progress.value = downloaded;\n",
              "          }\n",
              "        }\n",
              "      }\n",
              "      const blob = new Blob(buffers, {type: 'application/binary'});\n",
              "      const a = document.createElement('a');\n",
              "      a.href = window.URL.createObjectURL(blob);\n",
              "      a.download = filename;\n",
              "      div.appendChild(a);\n",
              "      a.click();\n",
              "      div.remove();\n",
              "    }\n",
              "  "
            ]
          },
          "metadata": {}
        },
        {
          "output_type": "display_data",
          "data": {
            "text/plain": [
              "<IPython.core.display.Javascript object>"
            ],
            "application/javascript": [
              "download(\"download_d66ff7c0-f87d-4ac5-a6c5-9e7bbc7ec026\", \"xgboost.pkl\", 255256)"
            ]
          },
          "metadata": {}
        }
      ]
    },
    {
      "cell_type": "markdown",
      "source": [
        "**Save SHAP Values & Feature Importance**"
      ],
      "metadata": {
        "id": "XvF8ZJQJNc-L"
      }
    },
    {
      "cell_type": "code",
      "source": [
        "import numpy as np\n",
        "\n",
        "# Save SHAP values as a NumPy array\n",
        "np.save(\"shap_values.npy\", shap_values)\n",
        "\n",
        "# Download file\n",
        "files.download(\"shap_values.npy\")\n",
        "\n",
        "import pandas as pd\n",
        "\n",
        "# Get feature names from the original DataFrame (df) before preprocessing\n",
        "feature_names = df.drop(columns=[\"Issue_Label\"]).columns  # Assuming 'df' is your original DataFrame\n",
        "\n",
        "feature_importance = pd.DataFrame({'Feature': feature_names, 'Importance': rf_model.feature_importances_})\n",
        "\n",
        "# Save to CSV\n",
        "feature_importance.to_csv(\"feature_importance_rf.csv\", index=False)\n",
        "\n",
        "# Download the file (for Colab users)\n",
        "files.download(\"feature_importance_rf.csv\")"
      ],
      "metadata": {
        "colab": {
          "base_uri": "https://localhost:8080/",
          "height": 17
        },
        "id": "ci4lPrItNckm",
        "outputId": "93a9df2a-3c7d-4ac4-8cd8-265ba3ae9055"
      },
      "execution_count": null,
      "outputs": [
        {
          "output_type": "display_data",
          "data": {
            "text/plain": [
              "<IPython.core.display.Javascript object>"
            ],
            "application/javascript": [
              "\n",
              "    async function download(id, filename, size) {\n",
              "      if (!google.colab.kernel.accessAllowed) {\n",
              "        return;\n",
              "      }\n",
              "      const div = document.createElement('div');\n",
              "      const label = document.createElement('label');\n",
              "      label.textContent = `Downloading \"${filename}\": `;\n",
              "      div.appendChild(label);\n",
              "      const progress = document.createElement('progress');\n",
              "      progress.max = size;\n",
              "      div.appendChild(progress);\n",
              "      document.body.appendChild(div);\n",
              "\n",
              "      const buffers = [];\n",
              "      let downloaded = 0;\n",
              "\n",
              "      const channel = await google.colab.kernel.comms.open(id);\n",
              "      // Send a message to notify the kernel that we're ready.\n",
              "      channel.send({})\n",
              "\n",
              "      for await (const message of channel.messages) {\n",
              "        // Send a message to notify the kernel that we're ready.\n",
              "        channel.send({})\n",
              "        if (message.buffers) {\n",
              "          for (const buffer of message.buffers) {\n",
              "            buffers.push(buffer);\n",
              "            downloaded += buffer.byteLength;\n",
              "            progress.value = downloaded;\n",
              "          }\n",
              "        }\n",
              "      }\n",
              "      const blob = new Blob(buffers, {type: 'application/binary'});\n",
              "      const a = document.createElement('a');\n",
              "      a.href = window.URL.createObjectURL(blob);\n",
              "      a.download = filename;\n",
              "      div.appendChild(a);\n",
              "      a.click();\n",
              "      div.remove();\n",
              "    }\n",
              "  "
            ]
          },
          "metadata": {}
        },
        {
          "output_type": "display_data",
          "data": {
            "text/plain": [
              "<IPython.core.display.Javascript object>"
            ],
            "application/javascript": [
              "download(\"download_90549661-6d96-44c4-92b7-0c82d69bb6a9\", \"shap_values.npy\", 6949429)"
            ]
          },
          "metadata": {}
        },
        {
          "output_type": "display_data",
          "data": {
            "text/plain": [
              "<IPython.core.display.Javascript object>"
            ],
            "application/javascript": [
              "\n",
              "    async function download(id, filename, size) {\n",
              "      if (!google.colab.kernel.accessAllowed) {\n",
              "        return;\n",
              "      }\n",
              "      const div = document.createElement('div');\n",
              "      const label = document.createElement('label');\n",
              "      label.textContent = `Downloading \"${filename}\": `;\n",
              "      div.appendChild(label);\n",
              "      const progress = document.createElement('progress');\n",
              "      progress.max = size;\n",
              "      div.appendChild(progress);\n",
              "      document.body.appendChild(div);\n",
              "\n",
              "      const buffers = [];\n",
              "      let downloaded = 0;\n",
              "\n",
              "      const channel = await google.colab.kernel.comms.open(id);\n",
              "      // Send a message to notify the kernel that we're ready.\n",
              "      channel.send({})\n",
              "\n",
              "      for await (const message of channel.messages) {\n",
              "        // Send a message to notify the kernel that we're ready.\n",
              "        channel.send({})\n",
              "        if (message.buffers) {\n",
              "          for (const buffer of message.buffers) {\n",
              "            buffers.push(buffer);\n",
              "            downloaded += buffer.byteLength;\n",
              "            progress.value = downloaded;\n",
              "          }\n",
              "        }\n",
              "      }\n",
              "      const blob = new Blob(buffers, {type: 'application/binary'});\n",
              "      const a = document.createElement('a');\n",
              "      a.href = window.URL.createObjectURL(blob);\n",
              "      a.download = filename;\n",
              "      div.appendChild(a);\n",
              "      a.click();\n",
              "      div.remove();\n",
              "    }\n",
              "  "
            ]
          },
          "metadata": {}
        },
        {
          "output_type": "display_data",
          "data": {
            "text/plain": [
              "<IPython.core.display.Javascript object>"
            ],
            "application/javascript": [
              "download(\"download_eb8698fa-7380-425f-bf0a-71d04a495232\", \"feature_importance_rf.csv\", 228)"
            ]
          },
          "metadata": {}
        }
      ]
    },
    {
      "cell_type": "markdown",
      "source": [
        "**Test Data Summary & Distribution**\n",
        "\n",
        "This section provides insights into the test dataset used for evaluation. It includes:\n",
        "- The total number of samples in the test set.\n",
        "- The class distribution after SMOTE.\n",
        "- A preview of the test data."
      ],
      "metadata": {
        "id": "QKDDqv8gMnjB"
      }
    },
    {
      "cell_type": "code",
      "source": [
        "# Test data size\n",
        "print(\"Test Data Size:\", X_test.shape)\n",
        "\n",
        "# Check class distribution in test data\n",
        "from collections import Counter\n",
        "print(\"Class distribution in test data:\", Counter(y_test))\n",
        "\n",
        "# Display sample test data\n",
        "print(\"\\nSample Test Data:\\n\", X_test[:5])\n"
      ],
      "metadata": {
        "colab": {
          "base_uri": "https://localhost:8080/"
        },
        "id": "_NO1LiSuMeRf",
        "outputId": "f1d6e58b-97a1-46db-b4af-34c9bde1114e"
      },
      "execution_count": 28,
      "outputs": [
        {
          "output_type": "stream",
          "name": "stdout",
          "text": [
            "Test Data Size: (2000, 6)\n",
            "Class distribution in test data: Counter({1: 1137, 0: 863})\n",
            "\n",
            "Sample Test Data:\n",
            " [[ 0.99679384 -0.05960675  0.31585158 -0.37401784  1.56865582  0.1336261 ]\n",
            " [-1.52993968  1.36521473  0.42650115  0.35275316 -0.88120686  0.1336261 ]\n",
            " [-0.58387204 -0.51156808  1.61755461 -1.59110354 -1.58116762  0.1336261 ]\n",
            " [ 1.11520956  0.47422014  1.4361228  -0.943301   -1.23118724 -2.7871629 ]\n",
            " [-1.37129743 -0.48399491 -1.34932912  1.19443876  1.21867544  0.1336261 ]]\n"
          ]
        }
      ]
    },
    {
      "cell_type": "markdown",
      "source": [
        "**Model Evaluation & Performance Insights**\n",
        "\n",
        "This section evaluates the trained models using accuracy, confusion matrices, and feature importance.\n"
      ],
      "metadata": {
        "id": "uUCuUKQtMxze"
      }
    },
    {
      "cell_type": "code",
      "source": [
        "from sklearn.metrics import roc_curve, auc, ConfusionMatrixDisplay\n",
        "import matplotlib.pyplot as plt\n",
        "\n",
        "# Compute ROC curve and AUC for Random Forest\n",
        "y_prob_rf = best_rf_model.predict_proba(X_test)[:, 1]\n",
        "fpr_rf, tpr_rf, _ = roc_curve(y_test, y_prob_rf)\n",
        "auc_rf = auc(fpr_rf, tpr_rf)\n",
        "\n",
        "# Compute ROC curve and AUC for XGBoost\n",
        "y_prob_xgb = xgb_model.predict_proba(X_test)[:, 1]\n",
        "fpr_xgb, tpr_xgb, _ = roc_curve(y_test, y_prob_xgb)\n",
        "auc_xgb = auc(fpr_xgb, tpr_xgb)\n",
        "\n",
        "# Plot ROC Curve\n",
        "plt.figure(figsize=(8, 6))\n",
        "plt.plot(fpr_rf, tpr_rf, label=f\"Random Forest (AUC = {auc_rf:.4f})\", linestyle=\"--\")\n",
        "plt.plot(fpr_xgb, tpr_xgb, label=f\"XGBoost (AUC = {auc_xgb:.4f})\")\n",
        "plt.plot([0, 1], [0, 1], 'k--')  # Random classifier line\n",
        "plt.xlabel(\"False Positive Rate\")\n",
        "plt.ylabel(\"True Positive Rate\")\n",
        "plt.title(\"ROC Curve Comparison\")\n",
        "plt.legend()\n",
        "plt.show()\n",
        "\n",
        "# Confusion Matrix for Random Forest\n",
        "print(\"Random Forest Confusion Matrix:\")\n",
        "ConfusionMatrixDisplay.from_estimator(best_rf_model, X_test, y_test)\n",
        "plt.show()\n",
        "\n",
        "# Confusion Matrix for XGBoost\n",
        "print(\"XGBoost Confusion Matrix:\")\n",
        "ConfusionMatrixDisplay.from_estimator(xgb_model, X_test, y_test)\n",
        "plt.show()\n"
      ],
      "metadata": {
        "colab": {
          "base_uri": "https://localhost:8080/",
          "height": 1000
        },
        "id": "S7l80zWWMrXC",
        "outputId": "50acd4f9-a2f6-4408-d089-b23c2af53e92"
      },
      "execution_count": 29,
      "outputs": [
        {
          "output_type": "display_data",
          "data": {
            "text/plain": [
              "<Figure size 800x600 with 1 Axes>"
            ],
            "image/png": "[encoded data removed]"
          },
          "metadata": {}
        },
        {
          "output_type": "stream",
          "name": "stdout",
          "text": [
            "Random Forest Confusion Matrix:\n"
          ]
        },
        {
          "output_type": "display_data",
          "data": {
            "text/plain": [
              "<Figure size 640x480 with 2 Axes>"
            ],
            "image/png": "[encoded data removed]"
          },
          "metadata": {}
        },
        {
          "output_type": "stream",
          "name": "stdout",
          "text": [
            "XGBoost Confusion Matrix:\n"
          ]
        },
        {
          "output_type": "display_data",
          "data": {
            "text/plain": [
              "<Figure size 640x480 with 2 Axes>"
            ],
            "image/png": "[encoded data removed]"
          },
          "metadata": {}
        }
      ]
    },
    {
      "cell_type": "markdown",
      "source": [
        "**Testing on Different Dataset**"
      ],
      "metadata": {
        "id": "_Q5UQGSZPmLO"
      }
    },
    {
      "cell_type": "code",
      "source": [
        "import pandas as pd\n",
        "from sklearn.preprocessing import LabelEncoder, StandardScaler\n",
        "\n",
        "# Load test dataset\n",
        "test_file_path = \"/content/drive/MyDrive/Kubernetes_Guidewire Hackathon/Kubernetes_test_f.csv\"  # Change path if needed\n",
        "test_data = pd.read_csv(test_file_path)\n",
        "\n",
        "# Drop the Timestamp column (not needed for predictions)\n",
        "test_data_cleaned = test_data.drop(columns=[\"Timestamp\"])\n",
        "\n",
        "# Encode categorical feature (Pod_Status)\n",
        "label_encoder = LabelEncoder()\n",
        "test_data_cleaned[\"Pod_Status\"] = label_encoder.fit_transform(test_data_cleaned[\"Pod_Status\"])\n",
        "\n",
        "# Separate features (X) and target (y)\n",
        "X_test_final = test_data_cleaned.drop(columns=[\"Issue_Label\"])  # Features\n",
        "y_test_final = test_data_cleaned[\"Issue_Label\"]  # True labels (for evaluation)\n",
        "\n",
        "# Apply StandardScaler (Assuming the same scaler was used in training)\n",
        "scaler = StandardScaler()\n",
        "X_test_scaled = scaler.fit_transform(X_test_final)\n",
        "\n",
        "# Display processed test data\n",
        "print(\"Processed Test Data (First 5 Rows):\")\n",
        "print(pd.DataFrame(X_test_scaled, columns=X_test_final.columns).head())\n"
      ],
      "metadata": {
        "colab": {
          "base_uri": "https://localhost:8080/"
        },
        "id": "GZ7e6Ru1kIk5",
        "outputId": "7aa13f88-b7dc-452c-b38d-276ed6efa9d3"
      },
      "execution_count": 12,
      "outputs": [
        {
          "output_type": "stream",
          "name": "stdout",
          "text": [
            "Processed Test Data (First 5 Rows):\n",
            "   CPU_Usage(%)  Memory_Usage(%)  Disk_Usage(%)  Network_IO(MB/s)  \\\n",
            "0     -1.371454         1.066186      -1.334455         -0.082577   \n",
            "1      0.810937         0.458120       0.918956         -0.788976   \n",
            "2      0.694036        -0.383087      -0.795374          0.571198   \n",
            "3     -1.402380        -0.142797       0.593905         -0.438749   \n",
            "4      1.527917         0.703747       0.753547         -0.965294   \n",
            "\n",
            "   Error_Logs_Count  Pod_Status  \n",
            "0          1.581083    0.119377  \n",
            "1         -0.157813   -2.811586  \n",
            "2         -0.505592    0.119377  \n",
            "3         -0.853371    0.119377  \n",
            "4          0.537746    0.119377  \n"
          ]
        }
      ]
    },
    {
      "cell_type": "code",
      "source": [
        "# Run predictions using trained models\n",
        "y_pred_rf = rf_model.predict(X_test_scaled)\n",
        "y_pred_xgb = xgb_model.predict(X_test_scaled)\n",
        "\n",
        "# Evaluate accuracy\n",
        "from sklearn.metrics import accuracy_score, classification_report, confusion_matrix\n",
        "\n",
        "print(\"Random Forest Accuracy on New Test Data:\", accuracy_score(y_test_final, y_pred_rf))\n",
        "print(\"XGBoost Accuracy on New Test Data:\", accuracy_score(y_test_final, y_pred_xgb))\n",
        "\n",
        "# Print detailed classification report\n",
        "print(\"\\n📊 Classification Report (Random Forest):\\n\", classification_report(y_test_final, y_pred_rf))\n",
        "print(\"\\n📊 Classification Report (XGBoost):\\n\", classification_report(y_test_final, y_pred_xgb))\n",
        "\n",
        "# Print confusion matrices\n",
        "print(\"\\n Confusion Matrix - Random Forest:\")\n",
        "print(confusion_matrix(y_test_final, y_pred_rf))\n",
        "\n",
        "print(\"\\n Confusion Matrix - XGBoost:\")\n",
        "print(confusion_matrix(y_test_final, y_pred_xgb))\n"
      ],
      "metadata": {
        "colab": {
          "base_uri": "https://localhost:8080/"
        },
        "id": "AJ3jAuB2lD-b",
        "outputId": "bdcaee66-d03b-4bd8-f30b-c1b30d783b2b"
      },
      "execution_count": 30,
      "outputs": [
        {
          "output_type": "stream",
          "name": "stdout",
          "text": [
            "Random Forest Accuracy on New Test Data: 0.9880059970014993\n",
            "XGBoost Accuracy on New Test Data: 0.9330334832583708\n",
            "\n",
            "📊 Classification Report (Random Forest):\n",
            "               precision    recall  f1-score   support\n",
            "\n",
            "           0       0.99      0.98      0.99       897\n",
            "           1       0.99      0.99      0.99      1104\n",
            "\n",
            "    accuracy                           0.99      2001\n",
            "   macro avg       0.99      0.99      0.99      2001\n",
            "weighted avg       0.99      0.99      0.99      2001\n",
            "\n",
            "\n",
            "📊 Classification Report (XGBoost):\n",
            "               precision    recall  f1-score   support\n",
            "\n",
            "           0       0.99      0.86      0.92       897\n",
            "           1       0.90      0.99      0.94      1104\n",
            "\n",
            "    accuracy                           0.93      2001\n",
            "   macro avg       0.94      0.93      0.93      2001\n",
            "weighted avg       0.94      0.93      0.93      2001\n",
            "\n",
            "\n",
            " Confusion Matrix - Random Forest:\n",
            "[[ 883   14]\n",
            " [  10 1094]]\n",
            "\n",
            " Confusion Matrix - XGBoost:\n",
            "[[ 772  125]\n",
            " [   9 1095]]\n"
          ]
        }
      ]
    }
  ]
}